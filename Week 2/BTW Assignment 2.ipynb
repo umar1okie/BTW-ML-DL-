{
 "cells": [
  {
   "cell_type": "markdown",
   "id": "74fe5f28",
   "metadata": {},
   "source": [
    "# Question1:\n",
    "Write a code that will:\n",
    " Prompt the user to enter their name, age, email, and favorite number.\n",
    " Stores these inputs in a dictionary with appropriate keys.\n",
    " Validate the email format (contains \"@\" and \".\").\n",
    " Displays a message using these variables, formatted as: \"Hello [name], you are [age] years old, your email is [email], and your favorite number is [favorite number].\"\n"
   ]
  },
  {
   "cell_type": "code",
   "execution_count": 9,
   "id": "92f8b125",
   "metadata": {},
   "outputs": [
    {
     "name": "stdout",
     "output_type": "stream",
     "text": [
      "Enter your Name: Umar\n",
      "Enter your age: 22\n",
      "Enter your email: umar1okie\n",
      "Invalid email. Please try again.\n",
      "Enter your email: umar1\n",
      "Invalid email. Please try again.\n",
      "Enter your email: umar1okie@gmail.com\n",
      "Your email is correct\n",
      "Enter your favorite number: 11\n",
      "{'name': 'Umar', 'age': '22', 'email': 'umar1okie@gmail.com', 'number': '11'}\n",
      "Hello Umar, you are 22 years old, your email is umar1okie@gmail.com, and your favorite number is 11\n"
     ]
    }
   ],
   "source": [
    "import re\n",
    "\n",
    "def Dictionary():\n",
    "    data = {}\n",
    "    data[\"name\"] = input(\"Enter your Name: \")\n",
    "    data[\"age\"] = input(\"Enter your age: \")\n",
    "    \n",
    "    email_pattern = r'^[a-zA-Z0-9._%+-]+@[a-zA-Z0-9.-]+\\.[a-zA-Z]{2,}$'\n",
    "    while True:\n",
    "        data[\"email\"] = input(\"Enter your email: \")\n",
    "        if(re.match(email_pattern, data[\"email\"])):\n",
    "            print(\"Your email is correct\")\n",
    "            break\n",
    "        else:\n",
    "            print(\"Invalid email. Please try again.\")\n",
    "            \n",
    "    \n",
    "    data[\"number\"] = input(\"Enter your favorite number: \")\n",
    "\n",
    "    print(data)\n",
    "    print(f\"Hello {data['name']}, you are {data['age']} years old, your email is {data['email']}, and your favorite number is {data['number']}\")\n",
    "    \n",
    "        \n",
    "Dictionary()\n"
   ]
  },
  {
   "cell_type": "markdown",
   "id": "bab36232",
   "metadata": {},
   "source": [
    "# Question 2\n",
    "1. Takes an integer as an input.\n",
    "2. Returns True if the number is even, otherwise False if the number is odd.\n",
    "3. Print whether the number was even or odd hint: use conditions"
   ]
  },
  {
   "cell_type": "code",
   "execution_count": 23,
   "id": "a5d84a93",
   "metadata": {},
   "outputs": [
    {
     "name": "stdout",
     "output_type": "stream",
     "text": [
      "Enter a number: 12\n",
      "12  is even\n"
     ]
    }
   ],
   "source": [
    "number = int(input(\"Enter a number: \"))\n",
    "if(number % 2 != 0):\n",
    "    print(number,\"is odd\")\n",
    "else:\n",
    "    print(number,\" is even\")\n",
    "    \n",
    "        "
   ]
  },
  {
   "cell_type": "markdown",
   "id": "2e627a02",
   "metadata": {},
   "source": [
    "# Question 3\n",
    "Write a function `convert_temperature(temp, scale)` that:\n",
    "1. Takes a temperature value and a scale (\"C\" for Celsius, \"F\" for Fahrenheit) as inputs.\n",
    "2. Converts the temperature to the other scale.\n",
    "3. Returns the converted temperature.\n",
    "4. Display the converted temperature.\n"
   ]
  },
  {
   "cell_type": "code",
   "execution_count": 36,
   "id": "1b1ed647",
   "metadata": {},
   "outputs": [
    {
     "name": "stdout",
     "output_type": "stream",
     "text": [
      "Enter temperature: 30\n",
      "Enter scale ('C' for Celsius to get temperature in Fahrenheit, 'F' for Fahrenheit to get temperature in cel): C\n",
      "Temperature in Fahrenheit: 86.0\n"
     ]
    }
   ],
   "source": [
    "def convert_temperature(temp, scale):\n",
    "    if scale == \"F\":\n",
    "        celsius = (temp - 32) * 5/9\n",
    "        print(\"Temperature in Celsius: \", celsius)\n",
    "    elif scale == \"C\":\n",
    "        fahrenheit = (temp * 9/5) + 32\n",
    "        print(\"Temperature in Fahrenheit:\" , fahrenheit)\n",
    "    else:\n",
    "        print(\"Invalid scale. Please enter 'C' for Celsius or 'F' for Fahrenheit.\")\n",
    "\n",
    "\n",
    "temp = float(input(\"Enter temperature: \"))\n",
    "scale = input(\"Enter scale ('C' for Celsius to get temperature in Fahrenheit, 'F' for Fahrenheit to get temperature in cel): \")\n",
    "\n",
    "\n",
    "convert_temperature(temp, scale)\n",
    "\n",
    "    \n",
    "    \n",
    "    "
   ]
  },
  {
   "cell_type": "markdown",
   "id": "0ba3ae5f",
   "metadata": {},
   "source": [
    "# Question 4\n",
    "Write a code that will:\n",
    "1. Contains a function `find_max_min(numbers_list)` that takes a list of numbers and returns both the maximum and minimum numbers in the list.\n",
    "2. Prompts the user to enter 5 numbers, stores them in a list, and then uses the `find_max_min` function to find and display the maximum and minimum numbers.\n"
   ]
  },
  {
   "cell_type": "code",
   "execution_count": 51,
   "id": "3a9fde06",
   "metadata": {},
   "outputs": [
    {
     "name": "stdout",
     "output_type": "stream",
     "text": [
      "Enter number 1: 1312234\n",
      "Enter number 2: 34435\n",
      "Enter number 3: 6754\n",
      "Enter number 4: 34334\n",
      "Enter number 5: 6787\n",
      "Maximum number: 1312234.0\n",
      "Minimum number: 6754.0\n"
     ]
    }
   ],
   "source": [
    "def find_max_min(number_list):\n",
    "    max_num = number_list[0]\n",
    "    min_num = number_list[0]\n",
    "    \n",
    "    for num in number_list:\n",
    "        if num > max_num:\n",
    "            max_num = num\n",
    "        elif num < min_num:\n",
    "            min_num = num\n",
    "    \n",
    "    return max_num, min_num\n",
    "\n",
    "number_list = []\n",
    "for i in range(5):\n",
    "    num = float(input(f\"Enter number {i + 1}: \"))\n",
    "    number_list.append(num)\n",
    "\n",
    "# Call find_max_min function and capture the returned values\n",
    "max_num, min_num = find_max_min(number_list)\n",
    "\n",
    "# Print the maximum and minimum numbers\n",
    "print(\"Maximum number:\", max_num)\n",
    "print(\"Minimum number:\", min_num)\n",
    "\n"
   ]
  },
  {
   "cell_type": "markdown",
   "id": "a315b48b",
   "metadata": {},
   "source": [
    "# Question 5\n",
    "Write a code that will:\n",
    "1. Prompt the user to enter details of 3 students: name, age, and grade.\n",
    "2. Stores these details in a list of tuples, with each tuple containing the name, age, and grade of a student.\n",
    "3. Convert this list of tuples into a dictionary with the student name as the key and the tuple (age, grade) as the value.\n",
    "4. Displays an appropriate output.\n"
   ]
  },
  {
   "cell_type": "code",
   "execution_count": 6,
   "id": "326f0e4e",
   "metadata": {},
   "outputs": [
    {
     "name": "stdout",
     "output_type": "stream",
     "text": [
      "Information about student 1:\n",
      "Student Name: ASAD\n",
      "Student age: 12\n",
      "Student Grade: A\n",
      "Information about student 2:\n",
      "Student Name: Ahad\n",
      "Student age: 13\n",
      "Student Grade: b\n",
      "Information about student 3:\n",
      "Student Name: aisha\n",
      "Student age: 14\n",
      "Student Grade: c\n",
      "\n",
      "Dictionary of student details:\n",
      "Name: ASAD, Age: 12, Grade: A\n",
      "Name: Ahad, Age: 13, Grade: b\n",
      "Name: aisha, Age: 14, Grade: c\n"
     ]
    }
   ],
   "source": [
    "\n",
    "students = []\n",
    "for i in range(3):\n",
    "    print(f\"Information about student {i + 1}:\")\n",
    "    name = input(\"Student Name: \")\n",
    "    age = int(input(\"Student age: \"))\n",
    "    grade = input(\"Student Grade: \") \n",
    "    \n",
    "   \n",
    "    information = (name, age, grade)\n",
    "    students.append(information)\n",
    "\n",
    "\n",
    "students_dict = {s[0]: (s[1], s[2]) for s in students}\n",
    "\n",
    "print(\"\\nDictionary of student details:\")\n",
    "for name, details in students_dict.items():\n",
    "    age, grade = details\n",
    "    print(f\"Name: {name}, Age: {age}, Grade: {grade}\")\n"
   ]
  },
  {
   "cell_type": "markdown",
   "id": "541b952b",
   "metadata": {},
   "source": [
    "# Question 6\n",
    "Write a code for function `update_inventory(inventory_dict, item, quantity)` that will:\n",
    "1. Take a dictionary where keys are item names and values are quantities, an item name, and a quantity to add or remove.\n",
    "2. Updates the inventory by adding or removing the specified quantity (use negative values for removal).\n",
    "3. Ensures that the quantity of any item does not go below zero.\n",
    "4. Returns the updated dictionary.\n",
    "\n",
    "Use this function to\n",
    "1. Initialize an inventory dictionary with at least 5 items.\n",
    "2. Prompt the user to update the inventory by adding or removing quantities of 3 items.\n",
    "3. Display the updated inventory.\n"
   ]
  },
  {
   "cell_type": "code",
   "execution_count": 11,
   "id": "3d17ed4c",
   "metadata": {},
   "outputs": [
    {
     "name": "stdout",
     "output_type": "stream",
     "text": [
      "Initial Inventory:\n",
      "apple: 10\n",
      "banana: 20\n",
      "orange: 15\n",
      "grapes: 12\n",
      "mango: 5\n",
      "\n",
      "Enter the name of item 1 to update: peach\n",
      "Do you want to add or remove quantity for peach? (enter 'add' or 'remove'): add\n",
      "Enter the quantity to add for peach: 7\n",
      "\n",
      "Enter the name of item 2 to update: apple\n",
      "Do you want to add or remove quantity for apple? (enter 'add' or 'remove'): remove\n",
      "Enter the quantity to remove for apple: 2\n",
      "\n",
      "Enter the name of item 3 to update: orange\n",
      "Do you want to add or remove quantity for orange? (enter 'add' or 'remove'): remove\n",
      "Enter the quantity to remove for orange: 5\n",
      "\n",
      "Updated Inventory:\n",
      "apple: 8\n",
      "banana: 20\n",
      "orange: 10\n",
      "grapes: 12\n",
      "mango: 5\n",
      "peach: 7\n"
     ]
    }
   ],
   "source": [
    "def update_inventory(inventory_dict, item, quantity):\n",
    "    if item in inventory_dict:\n",
    "        inventory_dict[item] = max(0, inventory_dict[item] + quantity)\n",
    "    else:\n",
    "        inventory_dict[item] = max(0, quantity)\n",
    "    return inventory_dict\n",
    "\n",
    "\n",
    "inventory = {\n",
    "    \"apple\": 10,\n",
    "    \"banana\": 20,\n",
    "    \"orange\": 15,\n",
    "    \"grapes\": 12,\n",
    "    \"mango\": 5\n",
    "}\n",
    "\n",
    "\n",
    "print(\"Initial Inventory:\")\n",
    "for item, quantity in inventory.items():\n",
    "    print(f\"{item}: {quantity}\")\n",
    "\n",
    "\n",
    "for i in range(3):\n",
    "    item = input(f\"\\nEnter the name of item {i + 1} to update: \")\n",
    "    action = input(f\"Do you want to add or remove quantity for {item}? (enter 'add' or 'remove'): \").strip().lower()\n",
    "    quantity = int(input(f\"Enter the quantity to {'add' if action == 'add' else 'remove'} for {item}: \"))\n",
    "    \n",
    "    if action == 'remove':\n",
    "        quantity = -quantity\n",
    "    \n",
    "    inventory = update_inventory(inventory, item, quantity)\n",
    "\n",
    "\n",
    "print(\"\\nUpdated Inventory:\")\n",
    "for item, quantity in inventory.items():\n",
    "    print(f\"{item}: {quantity}\")\n"
   ]
  },
  {
   "cell_type": "code",
   "execution_count": null,
   "id": "c47adf15",
   "metadata": {},
   "outputs": [],
   "source": []
  }
 ],
 "metadata": {
  "kernelspec": {
   "display_name": "Python 3 (ipykernel)",
   "language": "python",
   "name": "python3"
  },
  "language_info": {
   "codemirror_mode": {
    "name": "ipython",
    "version": 3
   },
   "file_extension": ".py",
   "mimetype": "text/x-python",
   "name": "python",
   "nbconvert_exporter": "python",
   "pygments_lexer": "ipython3",
   "version": "3.11.4"
  }
 },
 "nbformat": 4,
 "nbformat_minor": 5
}
